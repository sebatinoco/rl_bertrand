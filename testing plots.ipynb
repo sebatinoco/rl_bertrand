{
 "cells": [
  {
   "cell_type": "code",
   "execution_count": 8,
   "metadata": {},
   "outputs": [
    {
     "name": "stdout",
     "output_type": "stream",
     "text": [
      "initial moving avg: 1.7246561365465474\n",
      "initial moving avg: 1.7416833010309913\n"
     ]
    }
   ],
   "source": [
    "from envs.BertrandInflation_final3 import BertrandEnv\n",
    "from agents.sac_moving2 import SACAgent\n",
    "from replay_buffer import ReplayBuffer\n",
    "import numpy as np\n",
    "\n",
    "N = 2\n",
    "rho = 1e-4\n",
    "k = 10\n",
    "moving_dim = 1000\n",
    "\n",
    "env = BertrandEnv(mu = 0.25, N = N, rho = rho, k = k, v = int(k * 1.5))\n",
    "dim_states = env.k * env.N + (env.k + 1) * 2\n",
    "dim_actions = 1\n",
    "\n",
    "buffer = ReplayBuffer(N, buffer_size = 10000, sample_size = 256)\n",
    "agents = [SACAgent(dim_states, dim_actions, env.price_low, env.price_high, moving_dim) for agent in range(N)]\n",
    "\n",
    "ob_t = env.reset()\n",
    "\n",
    "for timestep in range(1000):\n",
    "    #actions = np.random.uniform(env.price_low, env.price_high, N)\n",
    "    actions = [agents[idx].select_action(ob_t) for idx in range(N)]\n",
    "    ob_t1, rewards, done, _ = env.step(actions)\n",
    "\n",
    "    experience = ob_t, actions, rewards, ob_t1, done\n",
    "    buffer.store_transition(*experience)\n",
    "    \n",
    "    if timestep > buffer.sample_size:\n",
    "        for agent_idx in range(N):\n",
    "            agent = agents[agent_idx]\n",
    "            sample = buffer.sample(agent_idx)\n",
    "            agent.update(*sample)\n",
    "    \n",
    "    ob_t = ob_t1"
   ]
  },
  {
   "cell_type": "code",
   "execution_count": 6,
   "metadata": {},
   "outputs": [
    {
     "data": {
      "text/plain": [
       "[1.5994434707731868, 1.5030807594899822]"
      ]
     },
     "execution_count": 6,
     "metadata": {},
     "output_type": "execute_result"
    }
   ],
   "source": [
    "actions"
   ]
  },
  {
   "cell_type": "code",
   "execution_count": null,
   "metadata": {},
   "outputs": [],
   "source": []
  }
 ],
 "metadata": {
  "kernelspec": {
   "display_name": "tesis",
   "language": "python",
   "name": "python3"
  },
  "language_info": {
   "codemirror_mode": {
    "name": "ipython",
    "version": 3
   },
   "file_extension": ".py",
   "mimetype": "text/x-python",
   "name": "python",
   "nbconvert_exporter": "python",
   "pygments_lexer": "ipython3",
   "version": "3.9.16"
  },
  "orig_nbformat": 4
 },
 "nbformat": 4,
 "nbformat_minor": 2
}
